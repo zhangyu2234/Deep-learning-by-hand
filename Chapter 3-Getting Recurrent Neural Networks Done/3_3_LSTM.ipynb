{
  "nbformat": 4,
  "nbformat_minor": 0,
  "metadata": {
    "colab": {
      "provenance": [],
      "gpuType": "V100"
    },
    "kernelspec": {
      "name": "python3",
      "display_name": "Python 3"
    },
    "language_info": {
      "name": "python"
    },
    "accelerator": "GPU"
  },
  "cells": [
    {
      "cell_type": "markdown",
      "source": [
        "[LSTM](https://d2l.ai/chapter_recurrent-modern/lstm.html)"
      ],
      "metadata": {
        "id": "pypbJvHIqwea"
      }
    },
    {
      "cell_type": "markdown",
      "source": [
        "Mathematically, suppose that there are $h$ hidden units, the batch size is $n$, and the number of inputs is $d$. Thus, the input is $\\mathbf{X}_t \\in \\mathbb{R}^{n \\times d}$ and the hidden state of the previous time step is $\\mathbf{H}_{t-1} \\in \\mathbb{R}^{n \\times h}$. Correspondingly, the gates at time step $t$ are defined as follows: the input gate is $\\mathbf{I}_t \\in \\mathbb{R}^{n \\times h}$, the forget gate is $\\mathbf{F}_t \\in \\mathbb{R}^{n \\times h}$, and the output gate is $\\mathbf{O}_t \\in \\mathbb{R}^{n \\times h}$. They are calculated as follows:\n",
        "$$\n",
        "\\begin{aligned}\n",
        "\\mathbf{I}_t & =\\sigma\\left(\\mathbf{X}_t \\mathbf{W}_{\\mathrm{xi}}+\\mathbf{H}_{t-1} \\mathbf{W}_{\\mathrm{hi}}+\\mathbf{b}_{\\mathrm{i}}\\right), \\\\\n",
        "\\mathbf{F}_t & =\\sigma\\left(\\mathbf{X}_t \\mathbf{W}_{\\mathrm{xf}}+\\mathbf{H}_{t-1} \\mathbf{W}_{\\mathrm{hf}}+\\mathbf{b}_{\\mathrm{f}}\\right), \\\\\n",
        "\\mathbf{O}_t & =\\sigma\\left(\\mathbf{X}_t \\mathbf{W}_{\\mathrm{xo}}+\\mathbf{H}_{t-1} \\mathbf{W}_{\\mathrm{ho}}+\\mathbf{b}_{\\mathrm{o}}\\right),\n",
        "\\end{aligned}\n",
        "$$\n",
        "where $\\mathbf{W}_{\\text {xi }}, \\mathbf{W}_{\\text {xf }}, \\mathbf{W}_{\\text {xo }} \\in \\mathbb{R}^{d \\times h}$ and $\\mathbf{W}_{\\text {hi }}, \\mathbf{W}_{\\mathrm{hf}}, \\mathbf{W}_{\\text {ho }} \\in \\mathbb{R}^{h \\times h}$ are weight parameters and $\\mathbf{b}_{\\mathrm{i}}, \\mathbf{b}_{\\mathrm{f}}, \\mathbf{b}_{\\mathrm{o}} \\in \\mathbb{R}^{1 \\times h}$ are bias parameters. Note that broadcasting (see Section 2.1.4) is triggered during the summation. We use sigmoid functions (as introduced in Section 5.1) to map the input values to the interval $(0,1)$.  \n",
        "Next we design the memory cell. Since we have not specified the action of the various gates yet, we first introduce the input node $\\tilde{\\mathbf{C}}_t \\in \\mathbb{R}^{n \\times h}$. Its computation is similar to that of the three gates described above, but uses a tanh function with a value range for $(-1,1)$ as the activation function. This leads to the following equation at time step $t$ :\n",
        "$$\n",
        "\\tilde{\\mathbf{C}}_t=\\tanh \\left(\\mathbf{X}_t \\mathbf{W}_{\\mathrm{xc}}+\\mathbf{H}_{t-1} \\mathbf{W}_{\\mathrm{hc}}+\\mathbf{b}_{\\mathrm{c}}\\right),\n",
        "$$\n",
        "where $\\mathbf{W}_{\\mathrm{xc}} \\in \\mathbb{R}^{d \\times h}$ and $\\mathbf{W}_{\\mathrm{hc}} \\in \\mathbb{R}^{h \\times h}$ are weight parameters and $\\mathbf{b}_{\\mathrm{c}} \\in \\mathbb{R}^{1 \\times h}$ is a bias parameter.  \n",
        "In LSTMs, the input gate $\\mathbf{I}_t$ governs how much we take new data into account via $\\tilde{\\mathbf{C}}_t$ and the forget gate $\\mathbf{F}_t$ addresses how much of the old cell internal state $\\mathbf{C}_{t-1} \\in \\mathbb{R}^{n \\times h}$ we retain. Using the Hadamard (elementwise) product operator $\\odot$ we arrive at the following update equation:\n",
        "$$\n",
        "\\mathbf{C}_t=\\mathbf{F}_t \\odot \\mathbf{C}_{t-1}+\\mathbf{I}_t \\odot \\tilde{\\mathbf{C}}_t .\n",
        "$$\n",
        "\n",
        "If the forget gate is always 1 and the input gate is always 0 , the memory cell internal state $\\mathbf{C}_{t-1}$ will remain constant forever, passing unchanged to each subsequent time step. However, input gates and forget gates give the model the flexibility of being able to learn when to keep this value unchanged and when to perturb it in response to subsequent inputs. In practice, this design alleviates the vanishing gradient problem, resulting in models that are much easier to train, especially when facing datasets with long sequence lengths.  \n",
        "Last, we need to define how to compute the output of the memory cell, i.e., the hidden state $\\mathbf{H}_t \\in \\mathbb{R}^{n \\times h}$, as seen by other layers. This is where the output gate comes into play. In LSTMs, we first apply tanh to the memory cell internal state and then apply another point-wise multiplication, this time with the output gate. This ensures that the values of $\\mathbf{H}_t$ are always in the interval $(-1,1)$ :\n",
        "$$\n",
        "\\mathbf{H}_t=\\mathbf{O}_t \\odot \\tanh \\left(\\mathbf{C}_t\\right) .\n",
        "$$"
      ],
      "metadata": {
        "id": "aN7aN0-tqX6f"
      }
    },
    {
      "cell_type": "markdown",
      "source": [
        "![image.png](data:image/png;base64,iVBORw0KGgoAAAANSUhEUgAAAloAAAEmCAYAAAC6Uz7NAAAACXBIWXMAAAsTAAALEwEAmpwYAAAgAElEQVR4nO3df4zc5nkn8O+qzsRokZxdtLEtA5KuaSHD0Zyla6WtnYicTcIGRSWjQC+oV7hduyngAr3V3bl1m3pDZmfDsXxJfecCWiBoiiCWBGhxP+FGDg4pE++Qap2s5Kskr23YQK5n+WDZaYFGTotcMnW898f44b7zLjnDmSFnSM73Awja+cXhcDjkw+d93+edarVamyAiIiKi1O0Y9woQERERlRUDLSIiIqKMMNAiIiIiyggDLSIiIqKMMNAiIiIiyggDLSIiIqKMMNAiIiIiyggDLSIiIqKMMNAiIiIiyggDLSIiIqKMMNAiIiIiyggDLSIiIqKMMNAiIiIiyggDLSIiIqKMMNAiIiIiyggDLSIiIqKM3DDuFSBKi+/7414FIqJMmaY57lWgPjHQSoHrugiCAJ7nddzv+z4ajQZs2y7Nj+PTn/403v/+9+Mzn/kM7rnnHnzlK1/B3r17x7Iusn3lbyKiSeE4Tsf/lF8MtFIQBAF834fv+x0BldxvGEZpAi3Vm2++OZb3lQBLtrdhGLBtGwCv9oiovOSCMgiC8Pziui4cx2HAlWMMtFLiOA4ajUbHid513W0nft/3EQRB+Br1uYZhdDwmz9V/QFH3qz9AWU7U41GBiCxPDwjj3n9c9ADL8zwGVkQ0MeR4p59npFWlTK0nZcLO8CkxDKOj+cr3/W0Biuu6YVOX3Jbnqo+5rgvLssLblmWFr6lUKuH9lUolXEYQBOH9crUjjwHoeF+V+j4SxOj3W5bVsaxx8H0/3A6e5zHIIiJC+6K81WoByMexmrZjRitFpmmG2RbJTKlc1w1/EED7R6EGZ9LHS14rt+V5QRCEmRygHdxZltUR0Mnf6o8tLpslzZ2yTvI813W33a+/zyjJFRvT40RE0TzPC4+VAPtu5QkDrRTZth02H0pQJVkYCWIqlUrHawzDgGEY2+6Loz5mmmYY3OmPOY6DSqUSNmlKHyaV3iwogZgEevq6jqPDOYMsIqJk1AvtsvYNLiI2HaZIgh4JDKK0Wq3wn+d54fOS/iD0TJneAV/lOE6YnYqi9gkTcjVkmua2dR31j5YdPYmI+iPHS73FhMaHgVbK4poNJfuk9stS+14lIf3AZBndAjohzY1xQZK+vLj3ifpMWZN1Z5BFRJSc4zgwTTO2by6NFpsOU6A22UnzoQQH6mPShl6pVDr6WunP0zNN8pi8JgiCjo7hUcsAtpoP9fpeotvyHMeJfR+xc+fO2G0yLGkyVPu0ERFRMrZth1ktNiGO11Sr1doc90pQdiqVSiGDFelfxmwWEdFgul0o0+gwo1VS4x4pOIxJHDWj1kET7MxKRMNgVisfGGiVWJFrTRV1vfulDscGgAN31/D2O8DGerPjeczuUT/UwshSQfyewybes2NrpPOk/MYmmfTP1Ytp02ix6ZByZxKaDdUq97MLS6hOz6B6aPuBcOOCj431NayuLJd+m1A61OD9wN013PGLW/vVCxd93LADuPStJkzTZCXxCRA3Fy+NDgOtEvm7v/s7AMDP/uzPjnlNhiMd+Mt6ApATYXW6htmFemSApTt7so7VlWUAxc5UUnb04P3Y8XrX5y/Oz2BjvckAvuSkG0kR++qWBcs7DKFSqfSsUyLV10fhb/7mb/CJT3yir9ckna5hVNM6lL3uiwRZswtLOHF6LVGQBQDHjtdx7pVNVKdrWPoch2xTJzmZ7qzWcO6VzZ5BFgCcOL2G2YWlcMovKreyH1vzjIHWEFqtVqLMQp5rmeQt0BJlzdhIkJXkRBjlxOk1PHveH/n3QfklQdYg+9Wx43WcONPsqJtH5ZLnY6kkIiQILGswyEBrCDKaQw5ScmWoFiWVVL5eqFSf/FO/Xyq693pu0klEZd3U58v/6jRBUcvVn6cujwfn5GRbDRpkiRNnml0r/tNkaTQaqE7XBt6vqofMMLPF3zONgtSTlKLUQPv8Mo7C2KPAQGsI6olODlDqRNBqZ1PpA2FZFmzb7ngesDUyyDCMyOfK40D7wGoYBjzPg2EYPQ+O8rht27BtOzxJy/vIusQtV3+eujxg+5yItJ0E27MLS7HPWZyfweL8DI7uncLi/AzOnqxHPq96yGQTIgHYmgB+dqE+1HKOHa+HwRZRluRYqJ4XTdPsOsdv0THQSlFUNXiV7FwAwqBKDdb06WZkGgVZpkT7MkeiLEOWF0eCJrl6iGvyTLpcmbBUlq1ObE3R5LuLyzoc3TsFAJhdaPfF2nfQxOrKcmywNbtQx7Pnuc0n3TebAarTtcR9/bqRfZPBFmVJutLIhboo86AM1tFKST/t4GqfLTVISRrRS4o/6VWAGsB1K52QZLlqVk2lpoAnlWVZHRlJXXW6Fnn/2ZN1VKdrOHF6Lbzv2PE6qtMzWJyrhbc7lnVoK2Cf9O1eZr2+32fP+zhxptlzOYvzM4lGuB64u9bnGtIkkvMAjz3JMKM1QhK8eJ4X/hskXSpzAEoGqhf5UTiOg1arhSAIIq9akyxXfljSpOl5HmzbLnXaNwnJAkrfA72/SxAE2Hcw+qC0urIcBln/9UuP4d8cqWLjoh82Eb5wMTpzdeDuWmn7NFCbZVnh/qTLIot8xy+a3KeoK7Uvb9y+SZ2Y0RoB6TBvmmbYgdwwjLBPlGn2f3BTl5H0+QDC5ko1MLIsq6P/Vdxy5XmO46DRaITr3GvyZxk00I+i9/tSBxJ4ntfuR1OtbXvexgU/zHRd/c6LOP0fFwEAX37s9/En/+O5sAkxyuuv/R+4bpMjQnso4kWArPPjjz+Oc+fObcs2qxdC3bJUatPz6kodGwfN2OK4Iu2SNOqx7dVXX8XVq1cHWs6gr4taxu7du7F7924AxdufBw2EH374Ydx0002prMPu3bvDbSn7puyTvS7+5Rw0Sa0gDLSGoO5Qenuz3DZNM+zMLv2jpL+UWpVZPxl0uy3Lk2VIsLa+vo7f+I3f2Lae6jpIhWB5X7WjfdRy9feUTvRq4Nar4rBM+ZHEq6++ijNnziTK1OXtBKpnCtXBEPccjj+gyHQ7u3/+Qzj8q7+J8//zP8P6V58KH49rcrx91z/HJz5qYH5+fqB1LZpB13lcnzWNYEU9ocky5SRlGEbipr6N9WbXgRjip97fPhEXua6WBFC9Hnv++edx/fp1BEGA3bt3Y8+ePSNYu+KJOs7u2rULr732Wsc+LueNXuT8oQZnQLmbI1kZnnKlqFWMZb3jpjWxLAt//8Opjn5YYnF+BvsOmmE/rL+99ho+sHMXgHYn+bj6SEf3TpW6AyltTZ8iGXF135KT1blXeh/Ck/bROnuyjqtXmmh+c3Kma1FP+mX9LaU524Yc6wDEHu+SLENaTdRArqzbnxktohRI1jDugGMYBp7+xvnIx2YX6h2d3j+wcxc2LvhYXamH9+k2Lmz1u6Pyi9q35AS1ccHvGUDF9Q/UvXDRx0/fONg6FpX8hvRyNhRNjnXy96DLiHttUS+2u2GgRZSSbgcd6SgfdVKUgpGrK8tYXVlGdbqGjfUmqtO12GzFxvr2zBiVT7eTvuxvG+u9p3JKWsz0hh35a5IfBTXYkq4YFC/L7dMtCCsqNh1SrpTxakZ0az5UJclQsNmQAITzGw472wDQ3u8W52oTPWm5NIn16ndaNGk2HWatjH21WN6BaERs28bGejO2CKlI0o9GL25Lk8m27a6FbfuxulIvZTahH7Zts/gypY6BFtGISHC0urIc9rHq19mTdayuLCca3UPlp+5Twzh7so6N9WbpMjmDYrA1PmUM9tlHqwDi6iQxo1E88p0tztViRxPGWZyfwcZ6s2NqJiLHcRAEARbnZ3o2S0eR4J1BVrmaqyg/mNHKORneLf1x5KBKxSXf4+rKMhbnZ3o+f+OCj6N7p/C+ymbi2QBosti2jZ++cRNH9071lS2VIIvBeyceYylNzGjlmMxyrp9YPc/jtAcFJ8GWZVnhhNLV6Vo4DP+Fiz5u2AFc+laz4/lEUaS5xXVdLM7VUJ2uxdbN2rjgY2N9LWxu5L5FlC0GWjkWVdBN8MBYDjI9j1xBB0EzLE5pGAa+8LnPAGCTBiXjOE44hZbUZgPaQbwauMtzeRwhyh4DrRxjh8zJoHf+lECLaBDq/iTHEJlX9cjHDzO4Ihox9tHKMZ5sJ486vQXRsNSgixksovFgoJVj0mQY1TGT2a5ykuZi9sGjNEl/TyIaPTYd5piMMNSnhZDbSXBKiWJhAE1pk30qamDNpFJ/Z3Ih6ysXtE+eOgU/CGBqx1keS2kQDLRyTjpLNxqN8ICgB108eJaDevDn90ppkSwpMLn7VRhsNhoIYi5mqtM1AMAHbt+Nj9z7AF646OOpvziPjfXmtud++LCBj9a2mmSJumGgVQBlrJRL26knRGByT4qUrknOkvq+j2W3gb8M2tugOl3DiTPN8PFe013ppDQGALju8rv/b/1O+XulKAy0SuCtt97CF77whY777rvvPlSr1TGtEfXL9334vg/HccIDNwMtGpY6QW9cXb6ykRYA+exqcNVvYKWrHjLDZRw7Xg/nmJSga80PMGMapd/G1B8GWgUmB5L3ve997OhacKZpdkyBwhFilIYgCGCaJjY3NzE3N4czZ86UunyI67pwXRf7704vuOpGptDSg64fbwL1z/L3S20MtArOMAzs2MHBo2UgWQeitEiwblkW9uzZg1arNeY1ys7HPm7hfOD3PYdoWtT3fPobAU40KrxgIgAMtAotyVUpf+REVHYf/biFf2ztwIkzzUwzWBsX/J7Ll4Dr7Ml62KTI4/BkYyqEiIgK62Mft/APrSm4p57pGgRJ096gzp6shx3hkzh2vI7ZhSW4rstM9YRjoEVERIXkui7OBz4ap3oHQDKJ9igdO15HdbqGpc+xD+0kY6BFRESF5LouZheWej5PslmL8zPtEg0XfCzOz+Do3ikc3TsVPr5xwcfZk+2O7Uf3ToXP15cljyUxu1DHs+cDZrUmGAMtIiIqrOp074BH+k2dOL2G6iETqyt17Dto4twrmzj3yiZWV5bDgEoyX+de2cS+g+3nitWVZVSnZ3DulU0AyZojq4dM/ItfnomcSo0mAzvDExFR4YR1sgbo/H7idLupUS1AqpLArDo909HkWJ2uhe+372Dy993c3ETTD8A+8ZOJgRYRERVWkpGAurMn63jhYjtQm13Y+ruXfoIr1RSmUDMPD/RaKj42HRIRUeFIeZt+RgKK1ZVlnDi9FjYlRs1nmKbnB1hHKg8GWkREVEiO4/Q1mlA6sFena+1yDe92is+S9ONiLa3JxaZDIiIqJMdx8EwzwGfmP4pHTz/T9bnqZNInTq+FAdDsQh2zC+37q4fMbZNOh1P5TM90NFHqt6OcPVnH6soyg6wJx0CLiIgKq/5ZG5Zl4TP3fxSPnooPtvSgKG6aHv15cjvu/jhqkMVAa7Kx6ZCIiApLJmR//ttrHTWxxkWaIxlkkWBGi4iICs00TbRaLbiuC9ddxtQUsLkZn7XKgpSKWF1ZxocPt4O/JPPRUvkx0CIiolJwHAeGYeCZZoDHHnWxurIcVo7PIujaKnJaD0cuMotFOgZaRERUGqZpwjRNfLRmIAgCuG57VGJaQVdUcHXYYAaL4jHQIiKi0pGAy3EcuG57Umc16BLV6RqArWKkr1z6Nt5z43vxg3/8fvicqDpbxrt9w+S9iOIw0CIiolKTpjz53/f9cO5BPwiwuQm89nwTm5ub+Ou/CvDzv7AXt9x2K6YA7JhqB1KGYcAwDAAMrKg/DLSIiGiiSLYLAPTeVD/zMz+DP3j49/Bbv/Vbo18xKiWWdyAiIiLKCAMtIiIiooww0CIiIiLKCAMtIiIiooww0CIiIiLKCAMtIqIJIOUMiGi0GGgRERERZYSBFhEREVFGGGgRERERZYSBFhEREVFGGGgRERERZYSBFhERTTzf9+H7Pt5++20AgOu6Y14jKgtOKk1ERBOv0WgAAH7wgx/gd37ndwAAjqNPOU3UP2a0iIho4tm2Dd/3w9sMsigtDLSIiGjimaY57lWgkmKgRUREhM5gixktSgsDLSIiIrSbDwEGWZQuBlpERCVnGMa4V6EQTNNkEyKljqMOiYiI3mXbNoMtShUDLaIc8n2fB3samO/7CIIAQRDgn94Bnj3fHk1XqVTCZjHDMLiPIX5bmaYZZgLZlEjDYKBFRFQiruvCdV0cuLuGt9+Zwr6DJo48uAwA2Fhfw3e+B6yutG87jjPRQYRlWfB9P9xWswt1HHmwvZ0A4Km/8LGx3oTruhO/rWhwDLSIiErA9300Gg34vo/ZhSUcO17f9pzqoXYG69jxOs6erMN1l+G6LjzPm6jslu/7sCwLB+6u4cSZZrhdhH5bthXA7Bb1j53hiYgKTgKHv//hFE6caUYGWbpjx+s498omZheWwszOJHBdF5ZlYXZhCZ97cm1bUBXl2PE6ZheW4Louah+zRrCWVCYMtIiICq7RaGB2YQknTicLHFQSRFhW+QMI3/fhum5sxq8bCUz/39tTE7GtKD0MtIiICsx1Xfi+33fgoDp2vI4Dd9dKH0BIQDrMtvrk79bDCaiJkmCgRURUUNLxfXZhKfY5Gxd8nD1Zx8aF7oFB2QOIJAFpkm1VPWROTAaQ0sFAi4iowKrTtcjgYeOCj8X5GSzO1bC6sozFuRqO7p3C2ZPbnwu0A4jqdA2NRiPbFR6TbgHp2ZN1HN071bGtFudnYgMu2d5lDUopXQy0iIhyrNvJPAgC7DsY3Sdrca6GfQdNnHtlM/w3u7CE1ZXl2GBr30ET//ROGmudT9XpmW33nT1Zx+rKMmYXljq21b6DJhbnarHLOnB3DUEQZLi2VBYMtKgUpMlD/0fJra+v47HHHhv3apDCsqzwX9T+HLePL87PdGS6Lj/7DQBbHd+ljpauOj0TFuwsE9lOUQMFJMgKt9W3vgmgva2q0+3MVpS33wEDLUqEdbSoFIIggOu6kbWAsq4PJPWLPM/L9H1G4Ytf/CIeeeSRTJZdqVTQarUyWfYw8hKQR520d+3aBdM0Oy4cTNPsmCYmKksDALMLdQDAmT+x8V+++Cju+Jf34I9X/wrHjrczOBsX/Nj6UWWbmSAuIJKmQQmy/uC+D+PlS8/iN3/Xwb/+d5/DvoMmXrgYvX/MLtSxOFeD67p9rw+r8k8WBlpUGqzcnC452UaddOMei7stQUKaJ3AJcOXvMtq9ezeuXr3acZ/v+zAMA1euXIl93cZ6E7ML7b9ffO48AODlv34Wf3vtNXxg566e7xsEQekCgQN31yLvr0637//u61fx8qVnAWxtM6C9LaNI9fhBsloSnOlBM5UTAy2aCOpJ2TCMMCCTkUO+74cZKamu7TgOgiAID4RSFFLmQJOrUnm+TNNRBrK9ZJtZlhVWD3ddF0EQhNtCzeapz1Nvy8mo0WgMfVJRK6DLd2Hb9lDLTGrUJ0TZ5+S91X0XAB5++OHI11Wna9hYb9fU+vf/4Sv4yuf/EB/+1U/iAzt3hVmcqGY0eaws+7EwDCMy81Q9ZGJxvRlm9/7gP63ir77+3/GpP/zjree8G4hFMU1z4Ey27MeWZfEiseQYaFFpSPOhkEBIAgMJmCzL2hYUSZOWZVkwDAOe54XDweUkrgcbEjTI42U7UErwKUGmHiTJNpMSA90+v+M44VQvw5D3Mk0zl82QaQuCAI7jxDY13XPYDAMq1b6DZtgP69jxOh45+d/Cx1ZX6rHBg2RpyiqyuXS61t4mp9dg/Np9MH7tPgCdneSjvHDRx6//ijHwupim2XEBB5TvGEJtDLSo9IIg6DhR2bbdMYRdzYaomS0JDgCEJ/cgCMLszCR0uE+awRlFp2A1oJuUE1Kvz/meHYjsQyR9jlZXlvHCRR+zC3VsrK9hdWUZ1ekaTpyOD6jK2IzV7TOdOL2GxfkZHN07hdmFJVSnZ7C6Un+3+TW+uOnGehO//iuHU1k3z/MYbJUYRx1SaUizivxTD66G0XnlmTRA0vsbqfT3KJtun03dnvq2zcqkBVlJ2LaNjXebvnTHjtdx4kwTQDuL1Q64lroGWasryyP7PkfNNE2srtQjHztxeg2zC0t44aIfPqfbnJFSHiOtbWWaZseFHZULM1o0EdRmr24dfdUO3pKxsm07PKCqJ/lJrgytZrAajUaYFewWmA5DTkDjCLLW19fxyCOP4Jlnnslk+cP07ZPmJ2n60lUPmZH3R5HgoayBrG3bsCwLZ0/WIwOofqblWV1ZTv1CS/qElqmvJ7Uxo0WlZ9t22Fld+mfFdZ42DKOjdpGQK85KpRIuR4IvvZ/FJJDPW6lUAGwFWOr20/t0Sf+4QQOwcZ58vvOd72S27GGzGJLViitCmoT0RyrzCV5+w1LaYlBZBqRlzSZOuqlWq7U57pUgEnIC77ejs1pjKI7ruh3Bkbwu6jVyv2VZHcOv1SAhKnuTxog6feTeqHz3u98FANxyyy1dn5cku9Rru/arUqmMrdlwfX0dn/zkJ/Haa68B2NqPJKsn6yT7gPQJBLb2B3mNflvNYAzz2dQ5D/udMHnjgo/FuVqm21fdNuMO5izLwt//cAqzC/XIkZfdSECa1e9Tvse0B3pUKpWxHFOojRktKgVpQulGUv16lkWljmqTUYf686PeK8n7590tt9zSM8hKqlvT7KDycLUvmVEZTKGOdA2CoON+NXunZ63kdlqfSYKkbtPrRJG5ELMMsiQDLNtGssJJXztsE7RkXYXnefj1XzmMxbla4m21ccHHZx+YyTTIAvKxj1P62EeLSGEYRljbRso8UCeeDBDuF2p9NqEGLL0Kf8pjaQQ5Ugai0WiEI+iA7X2PNi744QjEew6bmQYOUlpFzdA4jhNZYiWKmh1Mk7yv67ZHZe47aKI6PdOR4ZLmRRmBOCklRSh9DLSIFGXITGVt0rdPP6Mx9SAsa7L/uq6LbzabePa8Hzmv4T2HzZE0xcYFU2qJFb0pWs12qdksKa2iZpkl4NWbxuS2NO9Kc7xKPn87i70cO//jqLYVlRcDLSKikmkHBu2/fd+P7Dc2KnEZqV5NgvrMDBI0pV0oVw2ifN/H6dOnMT8/D4AXFZQO9tEiilD2QqRZ4Dbr7FOkl72QQCGqf1KW265bn8RxSWs90i6Ua5om9uzZw8w2pYqBFpFGMgCUXFRfpTK59dZbw7/1DI16W+Z+rFQq22YjkA7yQGefLMdxwrkbszSO7ycuWJEBJ/0aRaHcNDrgE6kYaNFEkAOnfgCNmkZHTkjq/ZMw3Y5KPdnoGRgZeafeL31n9G1WhkrX09PTuHDhAoCtWkxCvy0DKFqt1rbneZ4Hz/O2zVzgOE7mQ+/l+xz1Piz91PR+V2qpFaAzM6Vf5MQ91mg0IptDh/mMsp5lvmig0WOgRaXmui4qlUo4klAtKipDzoMgQKVS6TgRqQf0qOeVmVquQEaHyWeWbak+Ln+rzWODDuen9KnbftQBhIyElN+h/AbVflGGYXQUFFZ/X2qtMWCrzpzegV4tlBs10jNpMWH1fcr+O6fRYcFSypVBC5YmWZZaDFCaB+VALQdiz/M6DuL6AV2ayLIq+zDOgqUibgSXUIu3yrZQ/9aLLqbxnRah4OKgxVizpteRGleJgl5FfdXH1W0pf+u1x/TldHt9t/cVepZWspCjlObxT1WE30+ZcdQhlZp6YFEDJ7VCd6/+WPpzynylKyeoqA7U6lRDSYIK/QSf10AkLXn8bHrwIfeNY117vWdcp/2o4sDDvL7XOpT5903jwaZDKi09gFIPoFLd2zCMjkmjo5ZhmiZs2w7/lbmIadSJRu2rJVMStVqt2PkiZTmtViv8x6vp8Tp69CgMwwhLJhSRYRiZF8uV5c/NzWX6PjRZGGhRaTmOE9vvSv7uNYxbHZ4vfZCyPFHlIRiRzJ/emV1G0ck6xvX3UfvcAMmyhmU3rknHJeB96623MDU1VejCm1mXXFC3zfz8fKkvqGi0GGhRqcl0H3ozlm3b4clPOtCqJHtjmiYMwwg78uZhUtysSdZD3yb6tlAzWnIClG0my6hUKhOxzYiI4rCPFpWaYRgdHUvVTJZ0itevkvWr/iJnAQahTleidyTWt4W67dQMQJm2l5QikAyeNMEJGQgQdb8ErHqTl/oatd4WEZUPM1pUajIUXDJU+gmPJ7jtZKi8bLMyBU2DkgyeFB5V+62pFeAlc6o2FcprhNrXDcBIipWWhZ6ZJioCZrSo1CTLIlkFBg29qaUsxlUKIG/UAqNSU01KDsg2kj58ahZQtqXaFKvWeZLAv9FoTGTQH1XGQf4W+n2DlG7oZ32I0sZAi0pNLU1A/eE2iybBUVSzsxTYVJ+n3y/UwQRZj6bLG8n4qdMPSTArgyfUIFRtllaDXNmmUU23RHnBQIuIaEAyqlWty6ZmseKoQcEkzq0pwZM6iEKlBlYyG4PaTxDY2tZq0eGy12qjYmKgRUQ0AHV0pfxTmwvVqWLUSZRt2w4DC+kPN+mZGD37J9mquKY8tWSLbEvf9zmwgHKJgRYR9UU/+ZX9xKY366m3pVZbEASwbXvbKEx5zPO8jhGvEljpmZ1JIU2p8rnVpkIJPKU4cLcO8Kx1RUXAQIsmkjoqTG3qYQfw3tRJfifhRNdrCphuhTTVx/TpoCad/N7kfyl0C3Q2D0aR7ao21XI+P8orlnegiaRmFaS/jOd5PAEmINso60rdVF6O43TUJlP3KcdxwqK4cp/6OumzJWUz5LnqyNBhcb+mNDGjRfQu9eqYiLIjGSy1P5vUFetWILhbwVyivGKgRRNP6iIR0WioAwgEgyYqKwZaNPGkY+4wtYw+u+yimWKw9m9/7/fxz266eejl/PJHDHxheTxZOmfZhc9tMhTjY+lMRP1/r76Kf/z+91NbnvtZe6jASAYRqLeHkdbneuv691Jd3rDbicqBgRZNPGnCiOt4m8Rfng/w6j9M4bb9wx9Uf+Gn9uDGW/fgR0Mu543LPr79mDu2oCLNbXLL94EbD6Cq7aUAABxPSURBVNQKv0364fs+vn3ex4EHloZe1k/+1Kv4SQA/unXP0Mu69OQyALvn83pJMwD59nkft+6vDb2v3Qjglh0340cfrA29Tn97xe8YWUmTi4EW0buGvaq+bb+Jg/fX01mZFFxEHW9ebo51HVLbJvcPvwggH9ukX3napwAJtPLnl+5fws79teEXlNK+9rXfm0lnQVR4HHVIE0mtxh03qS/nPdsuqhI6ERHFY0aLJlKv0gQSQDDt3ymqJpTUJJv0+mP69C+cDmY4aU8YTTQuzGgRRQiCgKUeEpr0eloSaDYaDVQqFbiuG96m/vm+31ENXp3KiKiIGGgRRRhmBOKkkeKRk0ymi5GsnmEYhdkm13LUZ02CVCk+apomPM8L7ycqIjYdEkWQaUEmOVNDyej7yCgzoRdP1QEM3mH+2uUmnn5oBg+ubaa3UkOQfpP6hY5pmtv6BxIVBQMtogiTMIdfWnjiG583LvuplM/IC/bLojJioEWUI199qD0kXC1BcOCBpdwN8R+lomwTvR+RFMHNKsN18VS7VIVsl4P31/HVh2bC2wceWMLtd9Wwc38NX31oBrftN8PSDPr2u3iqjktPLuPW/bX0yiQMIS5zlWVdqmuXm3juVHv7qPvakSfWxr49qNgYaBHlxMVT9Y66U1+amZr4g3xRton0H1IzoVl34D54fz3MaB28vx5uq3ufWAPQDlBvv6vW8ZoH1zbD5kL1sdvvquHgWnsZz51axr1j2r7SRBgny76TTz80E+5bEnTJtiQaBjvDE+XAtctNXHpyuSPLcGvOgolRK8o2kb5DehDgOM5IB1UcvL+O2+9qBwnSd+v1K81tz9u5v7ZtO0rgevtdtbEWdJUBBPqITd/3ww7yWbh4qo4DD2xl8nbuH+92oHJhoEWUA69faW47+b15uZm7zM0oFWWbSFAQFVSNsq/RxVN1PP3QDJ47tbwtkwUg8r68MU0znAfRdd2wdIbjOJkOMnjjcmcW7drl7fse0aAYaBHlgH4SvHiqPvEHem6T3tSO8G9cbs+LeO+7zV9F7STvOA5arVYYWHme1xFk6XW20qLub69faRZ2+1H+sI8WUQ7s3F8DTi2HTT6XnlxOZTLhIovaJkdy2GfGMIxwSqdxjJZ747KPa3e1A4M3Lvu4iHpnhialufvGIW57pj0q+JfuX8LTD83gwANL4bZj/yxKCwMtopy494m1sHjk7U/UctdENg5F3yZZ1306eH8d1+5qN6fu3F/DtbuaABCONpRtp48kVG+rwevO/bVcBrOqLGZt2Lm/hgfXNnHxVD0Xoy6pXBhoEeUID/Db5X2byElfRhkahhEW3hxF8VJ1++jbSu3c3e9r8irLYsJ5KxlC5cBAi4hoSOoIQ6mfpQYCrutuu48Gw2LCVDQMtIiIUiBBVFwwxSCLaDJx1CERUYa6FeAkovJjoEVERESUETYdEqVEhtbnhV6EcVzrMOnbxDTNoZoNpbwFdff6lWZkJfxxef1SEzhyeNyrQTnAQIsoBR85bODtIAD+d3PcqxLa8z7gvkeyH/UW5yOHDfyY22Qov3zYzNX2A95dp5zhdqI8m2q1WpvjXgkiIVNutFqtca/K2LiuO5KyAEViWRZHmw1B+omxQ35v4/z9ZXX8q1Qq8DyP3/+YsI8WUY7IHG/UidtlOI1GI6ztRfG4n1EWGGgR5YhMUMyD/RaO2huO7/sMIBLi74+ywECLKId4oN/Ck99w1EwWt2E8CUiJ0sZAa0hRs8i7rgvLssK/4w5ulUol8oct7fRZ67ZugzyPhqMf6HnQ375NuB/2j02G/eN+RmlioJUxwzBy27E56QGYB+rRkMyN4HbvZJomt0mfGKgmp//+uK0oLQy0RkD9wUq2S/8RSx8Ky7K2nUwkw+W67raDpjwWtUz99epz5AAcBEF4n7x/r+fFrQ8Nx/f9MCh3HIcHerRPfjJS6vr162ze6VMQBDBNE7t378bc3BwAZkqjyH6l/v4Y1FNaWEcrBfoJUf2Bqn9blgXDMOB5XsdrJHBxHAe2bXdcWUmzned5CIIgfEyu7oMggG3bYSAUlT2TofGmaYYBkjrBrXpSt20bQPsEpw8Jl+fFrQ8Np9VqhdvccZzcZkJHSUo6VCoVPP7449zP+iT7kGVZ2LNnz0SXTenGNM2O8iH87VGamNEaIf2KSWWaJhzHgWmaMAwjvF+uSIF2M6RhGB2BmARMsry4q9UgCOD7PjzPC99HXi/ro9+vv3eS9SEiKiIG8ZQVZrRSoAdNrutGNv/p5IcdBEFHcCVBjkoPrqL+jjtQSPZJOthHZUt8398WMKnL1sWtDxEREW1hRmtE9CBI72vSrT+ANDd6nhc27fUjCAI4joNWqxXb96DRaHS8T7fgadj1ISIimhTMaI2Q4zhhP62o+9VO6RKY2bYdZqIMwwj7cvVD+m9JpkzeX27rJQX0/l7q89JYHyIioknBjNaQooIM6buk/y2d3YXa+dK27fB5akZJ7X/VaDTCPlaybDVTpt/W30c6zqv9xNT3lOdIxkpd7yTrQ0RUZBxpSFngpNKUK5M+qbSM6pzUzx9l0veJNHBS4WSkf+04JzDP4rvKy/cvLSbCcZzI+8qGGS2inCnjgWYYzDIMRy/TQvH0gUnjXI8ykn1QLW8kpYqke0sZMdAiyhEWKY3GIGFwZT1pZyEPxVx5oVU+7AxPlBMyCIIH2i1qgVzqn2w/7lO95eX3J4OMAAZdZcGMFlEOyAmR5TK2yLRUaiFd6o9sP56wu8vT70+CvbxOcSZ9JoddN3XKtzx+zjQxo0WZ6vcHdOXKlY7Xlf0EK4ViZdaAsn/epOTEl4cMQxHJyZDbrzc50efp96dOnZS3QFmaomX/kuC0322nfq6yB1sMtHKqTKMzJA2e9Wvi9HMAuH79Oq5evQoA+OEPfwgAuPHGG3u+bteuXbjppptiH9+9e3fH7atXr4b/1Al/x91H69VXXw0/v77OAHDXXXdl+v5nzpwB0A645+bmMD8/P/ABWIL2SXLlyhU8//zzqWy/spMLHJnnMC9BlpCyOpZlhcd9tVyQSNoH7/Tp012fm3Q5169fD491auFtCbryth3zgOUdckztnyI7r0T+eTwwDMv3fVy5cgUPP/zwQH1y0uj0+2d/9md48803Ix+74Yb465Ibb7wRN9xwA65fv57ofeRAtXv37q4B2iB4YiXqTi0IXYTjqDqtW9Lft/q5fN/HXXfd1fexptsoQPWiMG4O3yhqBlHPaOUte5cWZrQoN9QDwyAHv2EOmBLUAltXkkU4ABNR+Q0bfFQqFTz++OOpHNOkWVrWq991U7NyklGMuq9MGGjRxFNHZpXxaoqIKC3S72/QY2XU6/T7LMsqTLYxCQZaBdBoNNBoNACwWSht6sg2BllERL2N4lhZliALYKBVCGpkX/bRGaPWaDQ4MouIiDLDQIsmloyYYTFMIqL8yEM9szSxYGmOySiTYUbTqZ28KVqZUtREREVXtmMyA60cMwwjbNKS5kK5LwiCRE2IRW0SG0XzaBAEpftBExGp2NVk/Nh0mGOTODpjlJ+Dk+0S0aQoyzmiiBhoFZzUe/rTP/1TXLt2Lbx/7969OHbs2BjXbHA8IBARpYMXlOPHQKvg5Ef0qU99asxrki4ZDUhERIMLgqCwXUjKgn20Ck5GZ7znPe/Z9q+obNtmvwIiohTwWDp+nOuQcsmyrI7BAFm9BwCWdyCiUpJR561Wa9yrMtGY0aJcsm0bruvyaoyIaEAy6wWNFwMtyiXTNGGaZjj1EBERJSf1ExlojR8DLcot6avFgqtERMlJkyG7ReQDAy3KLZmDkNXtiYiSkeOl4zgcuZ0TLO9AuSZpb6bBiYi6U4MsHivzg4EW5R6DLSKieL7vo9FowPd9Blk5xKZDKgTHceB5HlzXRaVSYVMiERHaF6BqqRoGWfnDOlpUOGqfLTmoyFRE/WAdLSIqGil5IxksAMxi5RwDLSosCbaY3SKiSWOaJmzbZof3AmCgRaUgV3b9TKB6+vRpAMD8/Hwm60RElBbDMMK/GVwVCwMtmlhsOiQioqyxMzwRERFRRhhoEREREWWEgRYRERFRRhho0cRSO5cSERFlgYEWERERUUYYaBERERFlhIEWERERUUYYaBERERFlhIEWERERUUYYaNFE48hDIiLKEqfgISIiIsoIM1pEREREGWGgRURERJQRBlpEREREGWGgRURERJQRBlpEREREGWGgRURERJQRBlpEREREGWGgRURERJQRBlpEREREGWGgRYVx4cIFfP7znx/3ahARESXGQIsK5etf/3pmy/Z9H67rxj5uWRYqlQoqlQp83w/vsywrvE1ERKRioEWFpAY2epCT9DH1tu/7aDQakc8Rtm1vu88wDHieB9M0+1h7IiKaFDeMewWIBhEEASzLgmmaMAwDlmWFAU+j0UAQBOHzGo0GPM8DgDCYksAoCILwuQDgui5M04wMnEzThOd5sCwrfA/HcbL+qEREVGDMaFFhOY4Dz/PgOE5kYCSPG4bRtUlQnmsYRviaOBKE+b7fEaARERFFYaBFpWDbdpitAtpNeurfaQZF0oTo+z77ZhERUVcMtIgGoDdFEhERRWGgRaWkZrCCIIjsyA6gZ5Ni1POl+VCaEPtdBhERTQ52hqfSsiwr/Fs6rdu2HXaiB9DRt8txnLBcg95PSx2VKAzD6Ai02DGeiIh0U61Wa3PcK0GUxPe+9z0AwM0339z1eWqg5Pt+ZEf5uPuHIR3kDcNguQciIgLAQItKKCojNQnvTURE+cNAi0oni2xV0vcFwGwWERGF2BmeSmdcgU4QBAyyiIioAzNaRERERBlhRouIiIgoIwy0iIiIiDLCQIuIiIgoIwy0iIiIiDLCQIuIiIgoIwy0iIiIiDLCQIuIiIgoIwy0iIiIiDLCQIuIiIgoIwy0iIiIiDLCQIuIiIgoIwy0iIiIiDLCQIuIiIgoIwy0iIiIiDLCQIuIiIgoIwy0iIiIiDLCQIuIiIgoIwy0iIiIiDLCQIuIiIgoIwy0iIiIiDJyw7hXgOK5rht5v+M44d++7yMIAgRBANu2YZpm5Gv+6I/+CDfffDM+/elPZ7Kug/J9HwDC9fZ9H6Zpbruf0iXbN4ppmvA8Dx/84Afxcz/3cyNcq+HIvkNElCe5DLS6nQTGadQH8SAIAACGYUQ+7rouXNeF4ziwbRuNRgONRgOe5217bqvVynRdBxUEQfj5LMuCYRgwTTP87JN24hxVgNloNCIDE9u2AQC//du/jWazmek69CL7dhK+76PRaEzc/hKFASdRvuQu0PJ9H5ZljXs1InmeN/IDmGEYkScb3/fhum7HOpmm2RF8daMGs3o2SX+e+rj6/G7LilqevizTNOE4zrbAOup2WU8cEiDI3zr5HpMGHP1wHCeT5aaln0DLNM3S7iP9CoKA24IoR3IXaIkH1zbHvQodvjQzNe5V6CAHU/2AmuTE5LpumDECEGbBpAlSlqFmCeQ1hmHAsqwwwNOXpa6PBBBqACiZNXkv9fP4vg/f98OMXBAEYdBtWVZus3KDkm1Sna4BAE6caQIAqodMbFzwsbG+hu98D1hdWQ6DjnEERrIf+L7fsQ7qdy+Pyf1A54WJfFagM8CrVCpwHGfbY/K9y+NBEIT7RaVSCZct6yYZXc/ztgWv+jpHrUdZyAVY2T4XUZGxM3zOua6LSqUS/pOThNrkNgjP88J/EuCoJzwA4QlMTk6e58FxHHieF57I9OWp5OSnkqyNfjJwHCfMcKnBmixXX7cik6yt67qYXVjCidNrOHF6DdVDJqqH2p+9esjEseN1HDtex7lXNjG7sNQRJKRBAln1X1RWzbIs2LYdBrpqxlkC41arFa5bq9Xq2EfU+1utFoIg2PY55DWu63YE261Wq2M/l+ymLDvqd9BoNGAYxrZ9Msl6FJ2+zYlo/HKb0aI20zTDfjNyG4jvt5WENNfpQZAs33XdcPlqfyn9BCsn5STrIoGavGeSK+5hPmOeWZaF6nQNJ840w8Cql2PH6wAA113uyO4MS923gO3Nwq7rhvuAmr0S6vcY16Qsr1NP/mo2M+716v2SUdNfJ9tCXSfDMML3Upvek65HUam/yTx+Lg5wSYeaxU17W/I7ygYDrZyTzuFRog6marNInEqlEgZwpmmiUql0vB+wlRUQesAnr+12QJcTpJ69yuNJYFTk+zlxeq3v1x47Xkd1egaLc7VU+q1127dUvu937Avd9q0kwbFhGB3P6yeglsBKsm/d+rUB7aBWRlH2Wo8yydOAIsnEyr6mdj2gwcm+LfvxMNtTsuzqdzSOpnW5yM9i35AANa2L1H4w0Coo6ceiBjFqE18cOQDLc/QDsuM4YSAmJyHJEMhr9P5WvUjzjhp4Rb22rCc9IdttdmFp4GVUD5mYXVgaWZ81+d7UA+6gzVJ6H65+SDO0ur82Go3IE4F6sJb9OSoLV7bmNT1DnYe+WlHHirKMEJ2dncXXvva1oZbxzjvv4J133gEAvP32232/Xr3YiLugSLKMqOBXLsBHuQ8N2yUmrxhoFZhc2csPIqqPk049+aijFVXS+Vh9XH9N0h+fbdthHx91HeKU7eSnkiBLmgEHdex4HS9c3Do4DkodbCD0Ua4SHEvpjUEOhLIPSOd53/cTB4nqCUCustVl6k2f8hnkufqgkUHXI+/0fpbq/+OkDq4RUU3MUYMt9O4Nsm9KE7KeucyiKa2bI0eO4MiRIwO//s///M/x1FNP4Y477sAdd9wBANi7d2/P17322mu4dOkSXn755fC+ubk5fPnLXx54XaIGVqnHFvW7kN+/+l0AW90M1O9BHTCjHlvU/qDynetN37IPx71ejkdxg3Qk6y/rI/uY/C7i9rssTLVarVwN75PoOo+jDouc7v7Rj34EAHjve9/b87ndDlplLrWQJbmyP/dKOvv1xgUfi3O1gQOFXgVLn376adx5551hwdIkJTy6lfMAopsFepUAUd8vrrhtP+/X7f4ykONnXgJIdYRoFD2bIidJGRihZsPUbhGVSiW8f5xNQoMY9gSvl/AZNkCQoKVXdxNZV73lRG1m1L8/YCsrLucVCZzUoEnON+rfejcYdT3V9VH3IXmeus+o/TjV/UTdN9XnZaHUGa1rl5t4/Uqz476D99fHsi7jliTAUq9OunVMpsEcuLuW+jIHDXx7vUa/Uk+yP+jPSVJ6pNtrei1vkPfrdj+NnmQu1Ey52tSrf6fqSVqCDekYXhSSGRo0GE47+9IrQ61mnuR/vZ+tPCZZJqCzywiwlSHTL5zkuXHftTroqtcgGtM00Wq1eg4KUfsMSh/ULFtTSlve4asPzeC5U8sAgEtPLuONy/npHJpX+g+C0hMEAe74xfSC1KSjFYnGqVsmq9vJMGp0tf63nBiLlGWX8iVFCAz1/l8qNejptu2jgjgpWRQ16j2KOuJZ3W5xAaJlWWg0Gj27OajT10U1caeplIHWxVN13LbfxL1PrOHg/XUceaI9wmtSs1n94NV+NrIYBVadriU+WBGNg2EYkZ301RFzKv13ohdWFtKnSM1MFIFk4fK0zpId1Ld9XDkfYKv5vRf1O5P3kG0Q16QclS1zHCdxGSEAYe3FOOpgmVGMrixl0+GlJ5dx4IGtkV2vX2nitv352bFpMlWnZ1JfZhlH6FB5yElcrfCvziIgJWLUTs/qSU/63xiGsW3wgj4aOu/0Jrg8kVHsEvzqAaE8Lt+hPNbtAjJuEIz+nes18OQ+9fUAEn3X8nq1sLe6fAkY1RHw8rwsj6WlzGgB5cheqW3GcVW7k5LXyhVFWuRAqNbiSou6nlFXXEVimiZWV+qpLnNjvZnq8vKqyN/7qOWxRp3jOGGAJDMM6LNCGIYB27Zh2/a2x6S5SO/TJFmJPGWHesnrusp3pG5r/XtQv0M1UNZHlMtt6S8lr5G/Pc8Lgxq5X16jft/q6w3DCIM0WYa6LeW2WuJCnx1CHpPfiPo8fb9LWylHHX71oRnctt/EwfvruHa5iacfmhl6FOM4Rh3qI2sGfW99tEWafRqyHK2R1ufPA9d18fQ3zuNzT/ZfqDTO0b3FHgmbRNFGlI1b1qOnRqlb8eUsq6NnRZriyvDdUH9KmdG6990+WV+amcJzp5bDPlrjJtmkqIySPKbOBaj+r47A0FOhaqdQWb56nzphs54dkPv0dVLfPy4Dpo5SjFq+elv9XFHZqaSfP+pz6+/XbTuPi2EYuPStZmrLO3uyDmD0V8hR2aW4fUt9LMlrou6LmvZnkPWYFGUr+Bj3WWTmiqIEWTTZShloAe2mwwfXNnHvE2vYub827tWB67od09qoTW0ySgJAWF9Frcour5fARu1gqAYg0pdB7lenVFAPSOrEs5ZlhctQh1VLoBK1vir1QKiODtFvq0UvZV37+fxqW7s6YkUNqOQzq4/l7aQrAdKwXv5f/kj7eqj7ijq5uezX8k/dT+Q1cr8a/Mv+IPuBOlJI7ZehDhXvZz0mVd7292F06zTeq7MzUZ6UsjN8XukpYzXbpDaRAYgMkIDOYc0AOgr6qe3UekVdqVOiZwvUERcSxOl1SWR5evOddGqUK8te/UPUPhVqENTP55dRRmozqFoxXJ+GIqo+yzjICBfXXUZ1emao8gxnT9Zx6VtNrPt/keIaxtMLR6qV14U+PZNa5yiqGrT+nasFE9WRajL1jlooMcl6TCL5bTAAIcoXBlojIieFqL5G+pQn3UigIkGaPllzP1fzej0XOamp65wmfZJqYHsglCQo0pejBpB5bjaRETurK3VUB5hUGmhXhF9dWR75yTRqH43LnqjZR3WaHwmo9O8oarqOQdYjz9991vRq3USUH6VtOswbmVqg1Wp1HAyjqt326lukB0TymiAIYNt2x6iObqIq8Y76ZBVX0K6bqP5aechaJeF5HjbWmwM1Icq0O6Oo+6IbpKgkgHAkmb5f6lPlSLOyPHeQ9ZhEktEdtj6TlGDIW99GojJgRmsE9OawqE7canOL/ljUVCOSHVObUdTmwagTkp6B0IsJDjsJrbo89TN1I58l6eeXplP1+UU70Xqeh0ajgaN7pxJPMn32ZD3MZI06yIpqrlbpRSVlJJg0J8v6Si0lPRjTh+nHneh7rUcZPPXUU3jxxRd7Pu/FF1/ESy+9hJdeegl33nknlpaW8KEPfQhPPfXUQO9brVZx5513htlI+X2xwznR8BhojYD0m5AmFL0OSavVCq/q1eHKMo+XPE+ln2zlpKa+h/pa6SRs23bH7OuSCZMh4XF9o5JMs6Cvg1qzJOrkKiTw6Pb51fdQt5e8Xp6jnvTj5sYaN7Wfmusu44WLPvYdbH9mCbo2LrSD4tWVOm7YAVz6VnNspRxk/61UKpHTNPm+H3aCV7MqUnBQLVIpk8BGke9TilPKe0uneekAHbceZbCxsdF3APnSSy9heXk59XWR9dD7PRJRf3JbRyuPyl6ziEZPso/fbAZ49vz2AEQqNeelg7OeYexW62iU61EWP/7xj8fyvkEQ4NFHH+2Yv65INaqKoEw1zqg/ucto5fnqiQcdSptktyROUbM9edzf8rJOeVmPtP3ET/zEWN53x44dmJoqfwHcccrTBRONVu4yWkRUHHr/QyIi6sRAi4iIiCgjLO9ARERElBEGWkREREQZYaBFRERElBEGWkREREQZYaBFRERElBEGWkREREQZ+f+MGehIDR/7HwAAAABJRU5ErkJggg==)"
      ],
      "metadata": {
        "id": "aG2QPFkXrDJP"
      }
    },
    {
      "cell_type": "code",
      "execution_count": 1,
      "metadata": {
        "id": "W-oE84R8l00V"
      },
      "outputs": [],
      "source": [
        "import torch\n",
        "import torch.nn as nn\n",
        "import torchvision\n",
        "import torchvision.transforms as transforms\n",
        "from torch.utils.data import DataLoader"
      ]
    },
    {
      "cell_type": "code",
      "source": [
        "# GPU\n",
        "def try_gpu(i=0):\n",
        "  if torch.cuda.device_count() >= i+1:\n",
        "    return torch.device(f'cuda:{i}')\n",
        "  return torch.device('cpu')"
      ],
      "metadata": {
        "id": "bpikgxq2rcOk"
      },
      "execution_count": 2,
      "outputs": []
    },
    {
      "cell_type": "code",
      "source": [
        "def get_params(input, num_hiddens, output, device):\n",
        "  # Input gate\n",
        "  W_xi = torch.normal(0, 0.01, size=(input, num_hiddens), device=device)\n",
        "  W_hi = torch.normal(0, 0.01, size=(num_hiddens, num_hiddens), device=device)\n",
        "  b_i = torch.zeros((num_hiddens), device=device)\n",
        "  # Forget gate\n",
        "  W_xf = torch.normal(0, 0.01, size=(input, num_hiddens), device=device)\n",
        "  W_hf = torch.normal(0, 0.01, size=(num_hiddens, num_hiddens), device=device)\n",
        "  b_f = torch.zeros((num_hiddens), device=device)\n",
        "  # Output gate\n",
        "  W_xo = torch.normal(0, 0.01, size=(input, num_hiddens), device=device)\n",
        "  W_ho = torch.normal(0, 0.01, size=(num_hiddens, num_hiddens), device=device)\n",
        "  b_o = torch.zeros((num_hiddens), device=device)\n",
        "  # C_tital\n",
        "  W_xc = torch.normal(0, 0.01, size=(input, num_hiddens), device=device)\n",
        "  W_hc = torch.normal(0, 0.01, size=(num_hiddens, num_hiddens), device=device)\n",
        "  b_c = torch.zeros((num_hiddens), device=device)\n",
        "  # output\n",
        "  W_o = torch.normal(0, 0.01, size=(num_hiddens, output), device=device)\n",
        "  b_oo = torch.zeros((output), device=device)\n",
        "  params = [W_xi, W_hi, b_i, W_xf, W_hf, b_f, W_xo, W_ho, b_o, W_xc, W_hc, b_c, W_o, b_oo]\n",
        "  for param in params:\n",
        "    param.requires_grad_(True)\n",
        "  return params"
      ],
      "metadata": {
        "id": "VoMX_zFDsAi2"
      },
      "execution_count": 3,
      "outputs": []
    },
    {
      "cell_type": "code",
      "source": [
        "def init_state(batch, num_hiddens, device):\n",
        "  return (torch.zeros((batch, num_hiddens), device=device), torch.zeros((batch, num_hiddens), device=device))"
      ],
      "metadata": {
        "id": "MpfdWo0gtwpI"
      },
      "execution_count": 4,
      "outputs": []
    },
    {
      "cell_type": "code",
      "source": [
        "def lstm(X, state, params):\n",
        "  [W_xi, W_hi, b_i, W_xf, W_hf, b_f, W_xo, W_ho, b_o, W_xc, W_hc, b_c, W_o, b_oo] = params\n",
        "  outputs = []\n",
        "  (H, C) = state\n",
        "  for x in X:\n",
        "    I = torch.sigmoid((x @ W_xi) + (H @ W_hi) + b_i)\n",
        "    F = torch.sigmoid((x @ W_xf) + (H @ W_hf) + b_f)\n",
        "    O = torch.sigmoid((x @ W_xo) + (H @ W_ho) + b_o)\n",
        "    C_tital = torch.tanh((x @ W_xc) + (H @ W_hc) + b_c)\n",
        "    C = F * C + I * C_tital\n",
        "    H = O * torch.tanh(C)\n",
        "    y = H @ W_o + b_oo\n",
        "    outputs.append(y)\n",
        "  return outputs[-1], (H, C)"
      ],
      "metadata": {
        "id": "xrJpQspwuYhX"
      },
      "execution_count": 5,
      "outputs": []
    },
    {
      "cell_type": "code",
      "source": [
        "class LSTM(nn.Module):\n",
        "  def __init__(self, input, num_hiddens, output, forward, init, params, device):\n",
        "    super().__init__()\n",
        "    self.num_hiddens = num_hiddens\n",
        "    self.forward = forward\n",
        "    self.params = params(input, num_hiddens, output, device)\n",
        "    self.init = init\n",
        "  def __call__(self, x, state):\n",
        "    shape = x.shape\n",
        "    x = x.reshape(shape[0], -1, shape[-1])\n",
        "    x = x.permute(1, 0, 2)\n",
        "    return self.forward(x, state, self.params)\n",
        "  def init_state_(self, batch, device):\n",
        "    return self.init(batch, self.num_hiddens, device)"
      ],
      "metadata": {
        "id": "DOO5j3sGwXbp"
      },
      "execution_count": 6,
      "outputs": []
    },
    {
      "cell_type": "code",
      "source": [
        "train_data = torchvision.datasets.MNIST('./data', train=True, download=True,\n",
        "                                        transform=transforms.ToTensor())\n",
        "test_data = torchvision.datasets.MNIST('./data', train=False, download=True,\n",
        "                                       transform=transforms.ToTensor())"
      ],
      "metadata": {
        "colab": {
          "base_uri": "https://localhost:8080/"
        },
        "id": "AiCjYiyKyINi",
        "outputId": "206a6b7c-303a-419b-d79b-c5c70fc73c20"
      },
      "execution_count": 7,
      "outputs": [
        {
          "output_type": "stream",
          "name": "stdout",
          "text": [
            "Downloading http://yann.lecun.com/exdb/mnist/train-images-idx3-ubyte.gz\n",
            "Downloading http://yann.lecun.com/exdb/mnist/train-images-idx3-ubyte.gz to ./data/MNIST/raw/train-images-idx3-ubyte.gz\n"
          ]
        },
        {
          "output_type": "stream",
          "name": "stderr",
          "text": [
            "100%|██████████| 9912422/9912422 [00:00<00:00, 156503827.34it/s]"
          ]
        },
        {
          "output_type": "stream",
          "name": "stdout",
          "text": [
            "Extracting ./data/MNIST/raw/train-images-idx3-ubyte.gz to ./data/MNIST/raw\n"
          ]
        },
        {
          "output_type": "stream",
          "name": "stderr",
          "text": [
            "\n"
          ]
        },
        {
          "output_type": "stream",
          "name": "stdout",
          "text": [
            "\n",
            "Downloading http://yann.lecun.com/exdb/mnist/train-labels-idx1-ubyte.gz\n",
            "Downloading http://yann.lecun.com/exdb/mnist/train-labels-idx1-ubyte.gz to ./data/MNIST/raw/train-labels-idx1-ubyte.gz\n"
          ]
        },
        {
          "output_type": "stream",
          "name": "stderr",
          "text": [
            "100%|██████████| 28881/28881 [00:00<00:00, 40351663.50it/s]\n"
          ]
        },
        {
          "output_type": "stream",
          "name": "stdout",
          "text": [
            "Extracting ./data/MNIST/raw/train-labels-idx1-ubyte.gz to ./data/MNIST/raw\n",
            "\n",
            "Downloading http://yann.lecun.com/exdb/mnist/t10k-images-idx3-ubyte.gz\n",
            "Downloading http://yann.lecun.com/exdb/mnist/t10k-images-idx3-ubyte.gz to ./data/MNIST/raw/t10k-images-idx3-ubyte.gz\n"
          ]
        },
        {
          "output_type": "stream",
          "name": "stderr",
          "text": [
            "100%|██████████| 1648877/1648877 [00:00<00:00, 80863028.75it/s]"
          ]
        },
        {
          "output_type": "stream",
          "name": "stdout",
          "text": [
            "Extracting ./data/MNIST/raw/t10k-images-idx3-ubyte.gz to ./data/MNIST/raw\n",
            "\n",
            "Downloading http://yann.lecun.com/exdb/mnist/t10k-labels-idx1-ubyte.gz\n"
          ]
        },
        {
          "output_type": "stream",
          "name": "stderr",
          "text": [
            "\n"
          ]
        },
        {
          "output_type": "stream",
          "name": "stdout",
          "text": [
            "Downloading http://yann.lecun.com/exdb/mnist/t10k-labels-idx1-ubyte.gz to ./data/MNIST/raw/t10k-labels-idx1-ubyte.gz\n"
          ]
        },
        {
          "output_type": "stream",
          "name": "stderr",
          "text": [
            "100%|██████████| 4542/4542 [00:00<00:00, 21747178.96it/s]\n"
          ]
        },
        {
          "output_type": "stream",
          "name": "stdout",
          "text": [
            "Extracting ./data/MNIST/raw/t10k-labels-idx1-ubyte.gz to ./data/MNIST/raw\n",
            "\n"
          ]
        }
      ]
    },
    {
      "cell_type": "code",
      "source": [
        "batch_size = 256\n",
        "num_epochs = 10\n",
        "lr = 0.01\n",
        "net = LSTM(28, 128, 10, lstm, init_state, get_params, try_gpu())"
      ],
      "metadata": {
        "id": "ybO4xl9_yhR5"
      },
      "execution_count": 8,
      "outputs": []
    },
    {
      "cell_type": "code",
      "source": [
        "train_loader = DataLoader(train_data, batch_size, shuffle=True)\n",
        "test_loader = DataLoader(test_data, batch_size, shuffle=True)"
      ],
      "metadata": {
        "id": "mKgt03PrzFhQ"
      },
      "execution_count": 9,
      "outputs": []
    },
    {
      "cell_type": "code",
      "source": [
        "loss = nn.CrossEntropyLoss()\n",
        "optimizer = torch.optim.Adam(net.params, lr=lr)"
      ],
      "metadata": {
        "id": "ER_ayRG5zd5y"
      },
      "execution_count": 10,
      "outputs": []
    },
    {
      "cell_type": "code",
      "source": [
        "from Common import plot_loss_acc, validation_rnn, train_and_test_rnn"
      ],
      "metadata": {
        "id": "la90-30Xzqkg"
      },
      "execution_count": 11,
      "outputs": []
    },
    {
      "cell_type": "code",
      "source": [
        "train_and_test_rnn(num_epochs, net, loss, optimizer, validation_rnn, train_loader, test_loader, try_gpu(), figsize=(10, 5))"
      ],
      "metadata": {
        "colab": {
          "base_uri": "https://localhost:8080/",
          "height": 989
        },
        "id": "09tMxkEkz6lv",
        "outputId": "0584c13d-1e0f-454c-872a-4f934a3fd7b5"
      },
      "execution_count": 12,
      "outputs": [
        {
          "output_type": "stream",
          "name": "stdout",
          "text": [
            "Step:100/235, Epoch:1/10, Loss:0.6937\n",
            "Step:200/235, Epoch:1/10, Loss:0.2738\n",
            "Step:235/235, Epoch:1/10, Accuracy:0.94\n",
            "Step:100/235, Epoch:2/10, Loss:0.1257\n",
            "Step:200/235, Epoch:2/10, Loss:0.1071\n",
            "Step:235/235, Epoch:2/10, Accuracy:0.97\n",
            "Step:100/235, Epoch:3/10, Loss:0.0923\n",
            "Step:200/235, Epoch:3/10, Loss:0.0711\n",
            "Step:235/235, Epoch:3/10, Accuracy:0.98\n",
            "Step:100/235, Epoch:4/10, Loss:0.0499\n",
            "Step:200/235, Epoch:4/10, Loss:0.0564\n",
            "Step:235/235, Epoch:4/10, Accuracy:0.98\n",
            "Step:100/235, Epoch:5/10, Loss:0.0667\n",
            "Step:200/235, Epoch:5/10, Loss:0.0747\n",
            "Step:235/235, Epoch:5/10, Accuracy:0.98\n",
            "Step:100/235, Epoch:6/10, Loss:0.1173\n",
            "Step:200/235, Epoch:6/10, Loss:0.0243\n",
            "Step:235/235, Epoch:6/10, Accuracy:0.99\n",
            "Step:100/235, Epoch:7/10, Loss:0.0493\n",
            "Step:200/235, Epoch:7/10, Loss:0.0079\n",
            "Step:235/235, Epoch:7/10, Accuracy:0.98\n",
            "Step:100/235, Epoch:8/10, Loss:0.0246\n",
            "Step:200/235, Epoch:8/10, Loss:0.0161\n",
            "Step:235/235, Epoch:8/10, Accuracy:0.99\n",
            "Step:100/235, Epoch:9/10, Loss:0.0613\n",
            "Step:200/235, Epoch:9/10, Loss:0.0196\n",
            "Step:235/235, Epoch:9/10, Accuracy:0.98\n",
            "Step:100/235, Epoch:10/10, Loss:0.0471\n",
            "Step:200/235, Epoch:10/10, Loss:0.0318\n",
            "Step:235/235, Epoch:10/10, Accuracy:0.99\n"
          ]
        },
        {
          "output_type": "display_data",
          "data": {
            "text/plain": [
              "<Figure size 1000x500 with 2 Axes>"
            ],
            "image/png": "[encoded data removed]"
          },
          "metadata": {}
        }
      ]
    },
    {
      "cell_type": "code",
      "source": [],
      "metadata": {
        "id": "t3pr5TXW2E5h"
      },
      "execution_count": 12,
      "outputs": []
    }
  ]
}